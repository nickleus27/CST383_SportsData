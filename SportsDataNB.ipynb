{
  "nbformat": 4,
  "nbformat_minor": 0,
  "metadata": {
    "colab": {
      "provenance": [],
      "mount_file_id": "1okyvs2MCCa7ZWl2FS7FEJM3lydYLhwsa",
      "authorship_tag": "ABX9TyN753r/AL2Mz2uwZR3oC4jA",
      "include_colab_link": true
    },
    "kernelspec": {
      "name": "python3",
      "display_name": "Python 3"
    },
    "language_info": {
      "name": "python"
    }
  },
  "cells": [
    {
      "cell_type": "markdown",
      "metadata": {
        "id": "view-in-github",
        "colab_type": "text"
      },
      "source": [
        "<a href=\"https://colab.research.google.com/github/nickleus27/CST383_SportsData/blob/main/SportsDataNB.ipynb\" target=\"_parent\"><img src=\"https://colab.research.google.com/assets/colab-badge.svg\" alt=\"Open In Colab\"/></a>"
      ]
    },
    {
      "cell_type": "markdown",
      "source": [
        "# BitByBit Team: Sports Data Notebook\n",
        "<ul>\n",
        "<li>Nick Anderson</li>\n",
        "<li>Oscar Ochoa</li>\n",
        "<li>Juan Duarte</li>\n",
        "</ul>\n",
        "\n",
        "<hr>"
      ],
      "metadata": {
        "id": "b9q-vNny5ePE"
      }
    },
    {
      "cell_type": "markdown",
      "source": [
        "# Add Installs:"
      ],
      "metadata": {
        "id": "wnXAX3xy9ifh"
      }
    },
    {
      "cell_type": "code",
      "source": [],
      "metadata": {
        "id": "N5fRAju19mEr"
      },
      "execution_count": null,
      "outputs": []
    },
    {
      "cell_type": "markdown",
      "source": [
        "# Add Imports:\n",
        "\n"
      ],
      "metadata": {
        "id": "lFlfWYun58VO"
      }
    },
    {
      "cell_type": "code",
      "execution_count": 1,
      "metadata": {
        "id": "Vo2FB4LD5OXH"
      },
      "outputs": [],
      "source": [
        "import numpy as np\n",
        "import pandas as pd\n",
        "import seaborn as sns\n"
      ]
    },
    {
      "cell_type": "markdown",
      "source": [
        "# Read Data:"
      ],
      "metadata": {
        "id": "642Zauxi5XZW"
      }
    },
    {
      "cell_type": "code",
      "source": [
        "# df = pd.read_csv()"
      ],
      "metadata": {
        "id": "Ki2vNYbD5WWM"
      },
      "execution_count": 2,
      "outputs": []
    }
  ]
}