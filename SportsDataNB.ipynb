{
  "nbformat": 4,
  "nbformat_minor": 0,
  "metadata": {
    "colab": {
      "provenance": [],
      "mount_file_id": "1okyvs2MCCa7ZWl2FS7FEJM3lydYLhwsa",
      "authorship_tag": "ABX9TyP3CkvsP8zkUCqU74xxFWvj",
      "include_colab_link": true
    },
    "kernelspec": {
      "name": "python3",
      "display_name": "Python 3"
    },
    "language_info": {
      "name": "python"
    }
  },
  "cells": [
    {
      "cell_type": "markdown",
      "metadata": {
        "id": "view-in-github",
        "colab_type": "text"
      },
      "source": [
        "<a href=\"https://colab.research.google.com/github/nickleus27/CST383_SportsData/blob/main/SportsDataNB.ipynb\" target=\"_parent\"><img src=\"https://colab.research.google.com/assets/colab-badge.svg\" alt=\"Open In Colab\"/></a>"
      ]
    },
    {
      "cell_type": "markdown",
      "source": [
        "# BitByBit Team: Sports Data Notebook\n",
        "<ul>\n",
        "<li>Nick Anderson</li>\n",
        "<li>Oscar Ochoa</li>\n",
        "<li>Juan Duarte</li>\n",
        "</ul>\n",
        "\n",
        "<hr>"
      ],
      "metadata": {
        "id": "b9q-vNny5ePE"
      }
    },
    {
      "cell_type": "markdown",
      "source": [
        "# Add Installs:"
      ],
      "metadata": {
        "id": "wnXAX3xy9ifh"
      }
    },
    {
      "cell_type": "code",
      "source": [],
      "metadata": {
        "colab": {
          "base_uri": "https://localhost:8080/"
        },
        "id": "N5fRAju19mEr",
        "outputId": "57f25efb-581b-46cf-95bb-720c541e75bc"
      },
      "execution_count": 3,
      "outputs": [
        {
          "output_type": "stream",
          "name": "stdout",
          "text": [
            "Collecting github\n",
            "  Downloading github-1.2.7-py3-none-any.whl (15 kB)\n",
            "Collecting aiohttp==3.8.1 (from github)\n",
            "  Downloading aiohttp-3.8.1-cp310-cp310-manylinux_2_5_x86_64.manylinux1_x86_64.manylinux_2_12_x86_64.manylinux2010_x86_64.whl (1.2 MB)\n",
            "\u001b[2K     \u001b[90m━━━━━━━━━━━━━━━━━━━━━━━━━━━━━━━━━━━━━━━━\u001b[0m \u001b[32m1.2/1.2 MB\u001b[0m \u001b[31m6.1 MB/s\u001b[0m eta \u001b[36m0:00:00\u001b[0m\n",
            "\u001b[?25hRequirement already satisfied: typing-extensions in /usr/local/lib/python3.10/dist-packages (from github) (4.5.0)\n",
            "Requirement already satisfied: attrs>=17.3.0 in /usr/local/lib/python3.10/dist-packages (from aiohttp==3.8.1->github) (23.2.0)\n",
            "Collecting charset-normalizer<3.0,>=2.0 (from aiohttp==3.8.1->github)\n",
            "  Downloading charset_normalizer-2.1.1-py3-none-any.whl (39 kB)\n",
            "Requirement already satisfied: multidict<7.0,>=4.5 in /usr/local/lib/python3.10/dist-packages (from aiohttp==3.8.1->github) (6.0.4)\n",
            "Requirement already satisfied: async-timeout<5.0,>=4.0.0a3 in /usr/local/lib/python3.10/dist-packages (from aiohttp==3.8.1->github) (4.0.3)\n",
            "Requirement already satisfied: yarl<2.0,>=1.0 in /usr/local/lib/python3.10/dist-packages (from aiohttp==3.8.1->github) (1.9.4)\n",
            "Requirement already satisfied: frozenlist>=1.1.1 in /usr/local/lib/python3.10/dist-packages (from aiohttp==3.8.1->github) (1.4.1)\n",
            "Requirement already satisfied: aiosignal>=1.1.2 in /usr/local/lib/python3.10/dist-packages (from aiohttp==3.8.1->github) (1.3.1)\n",
            "Requirement already satisfied: idna>=2.0 in /usr/local/lib/python3.10/dist-packages (from yarl<2.0,>=1.0->aiohttp==3.8.1->github) (3.6)\n",
            "Installing collected packages: charset-normalizer, aiohttp, github\n",
            "  Attempting uninstall: charset-normalizer\n",
            "    Found existing installation: charset-normalizer 3.3.2\n",
            "    Uninstalling charset-normalizer-3.3.2:\n",
            "      Successfully uninstalled charset-normalizer-3.3.2\n",
            "  Attempting uninstall: aiohttp\n",
            "    Found existing installation: aiohttp 3.9.1\n",
            "    Uninstalling aiohttp-3.9.1:\n",
            "      Successfully uninstalled aiohttp-3.9.1\n",
            "Successfully installed aiohttp-3.8.1 charset-normalizer-2.1.1 github-1.2.7\n"
          ]
        }
      ]
    },
    {
      "cell_type": "markdown",
      "source": [
        "# Add Imports:\n",
        "\n"
      ],
      "metadata": {
        "id": "lFlfWYun58VO"
      }
    },
    {
      "cell_type": "code",
      "execution_count": 2,
      "metadata": {
        "id": "Vo2FB4LD5OXH"
      },
      "outputs": [],
      "source": [
        "import numpy as np\n",
        "import pandas as pd\n",
        "import seaborn as sns\n"
      ]
    },
    {
      "cell_type": "markdown",
      "source": [
        "# Read Data:"
      ],
      "metadata": {
        "id": "642Zauxi5XZW"
      }
    },
    {
      "cell_type": "code",
      "source": [
        "df = pd.read_csv()"
      ],
      "metadata": {
        "id": "Ki2vNYbD5WWM"
      },
      "execution_count": null,
      "outputs": []
    }
  ]
}